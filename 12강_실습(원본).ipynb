{
  "nbformat": 4,
  "nbformat_minor": 0,
  "metadata": {
    "colab": {
      "provenance": [],
      "authorship_tag": "ABX9TyPDf/2p8vwEWR27t1KHEZ3y",
      "include_colab_link": true
    },
    "kernelspec": {
      "name": "python3",
      "display_name": "Python 3"
    },
    "language_info": {
      "name": "python"
    }
  },
  "cells": [
    {
      "cell_type": "markdown",
      "metadata": {
        "id": "view-in-github",
        "colab_type": "text"
      },
      "source": [
        "<a href=\"https://colab.research.google.com/github/jaehwachung/Python/blob/main/12%EA%B0%95_%EC%8B%A4%EC%8A%B5(%EC%9B%90%EB%B3%B8).ipynb\" target=\"_parent\"><img src=\"https://colab.research.google.com/assets/colab-badge.svg\" alt=\"Open In Colab\"/></a>"
      ]
    },
    {
      "cell_type": "markdown",
      "source": [
        "# 12강 실습"
      ],
      "metadata": {
        "id": "gsIqze9Vyw5b"
      }
    },
    {
      "cell_type": "markdown",
      "source": [
        "**12강 1절**"
      ],
      "metadata": {
        "id": "bQcXLxROy7C_"
      }
    },
    {
      "cell_type": "markdown",
      "source": [
        "'Khan.txt' 파일을 읽고 처리하는 프로그램을 작성하시오. "
      ],
      "metadata": {
        "id": "CMTsz70kzLeS"
      }
    },
    {
      "cell_type": "code",
      "source": [],
      "metadata": {
        "id": "6mebKTkiaS1p"
      },
      "execution_count": 23,
      "outputs": []
    },
    {
      "cell_type": "code",
      "source": [],
      "metadata": {
        "id": "bHcoM9imuNWb"
      },
      "execution_count": 23,
      "outputs": []
    },
    {
      "cell_type": "markdown",
      "source": [
        "**12강 2절**"
      ],
      "metadata": {
        "id": "550wwIWMy_Fn"
      }
    },
    {
      "cell_type": "markdown",
      "source": [
        "\"hamlet_by_Shakespeare.txt\" 파일에 포함된 단어와 각 단어의 출현 횟수를 출력하는 프로그램을 *작성하시오*"
      ],
      "metadata": {
        "id": "ul20N9_MzMGh"
      }
    },
    {
      "cell_type": "code",
      "source": [],
      "metadata": {
        "id": "8WkJiCT7zKIL"
      },
      "execution_count": 23,
      "outputs": []
    },
    {
      "cell_type": "markdown",
      "source": [
        "'hamlet_by_Shakespeare.txt' 파일에 포함된 단어 중 출현한 횟수가 100 이상되는 단어와 출력 횟수를 출력하는 프로그램을 작성하시오 \n",
        "*이탤릭체 텍스트*"
      ],
      "metadata": {
        "id": "5ui2teFoHcsF"
      }
    },
    {
      "cell_type": "code",
      "source": [],
      "metadata": {
        "id": "8zGhR-s3aZKS"
      },
      "execution_count": 23,
      "outputs": []
    },
    {
      "cell_type": "code",
      "source": [],
      "metadata": {
        "id": "K2bB_P7QiG-F"
      },
      "execution_count": 23,
      "outputs": []
    }
  ]
}