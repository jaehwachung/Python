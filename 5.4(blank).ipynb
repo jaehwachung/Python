{
 "cells": [
  {
   "cell_type": "code",
   "execution_count": null,
   "metadata": {},
   "outputs": [],
   "source": [
    "#반지름값 사용자 입력\n",
    "radius = eval(input(\"반지름을 입력하세요:\"))\n"
   ]
  },
  {
   "cell_type": "code",
   "execution_count": null,
   "metadata": {},
   "outputs": [],
   "source": [
    "if radius > 0:\n",
    "    #넓이 출력\n",
    "    print(\"넓이는\", radius * radius * 3.141592, \"입니다.\")\n",
    "    #둘레 출력\n",
    "    print(\"둘레는\", 2 * radius * 3.141592, \"입니다.\")\n"
   ]
  }
 ],
 "metadata": {
  "kernelspec": {
   "display_name": "Python 3",
   "language": "python",
   "name": "python3"
  },
  "language_info": {
   "codemirror_mode": {
    "name": "ipython",
    "version": 3
   },
   "file_extension": ".py",
   "mimetype": "text/x-python",
   "name": "python",
   "nbconvert_exporter": "python",
   "pygments_lexer": "ipython3",
   "version": "3.7.3"
  }
 },
 "nbformat": 4,
 "nbformat_minor": 4
}
