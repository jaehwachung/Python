{
 "cells": [
  {
   "cell_type": "code",
   "execution_count": null,
   "metadata": {},
   "outputs": [],
   "source": [
    "#1 필요 모듈 임포트\n",
    "\n",
    "#2 상수 설정\n",
    "SCROLL_PAUSE_TIME = 2\n"
   ]
  },
  {
   "cell_type": "code",
   "execution_count": null,
   "metadata": {},
   "outputs": [],
   "source": [
    "#3 URL과 Webdriver 설정\n",
    "url = \"https://www.youtube.com\"\n",
    "\n",
    "#4 웹브라우저 크기 조정\n"
   ]
  },
  {
   "cell_type": "code",
   "execution_count": null,
   "metadata": {},
   "outputs": [],
   "source": [
    "#5 URL 접속\n"
   ]
  },
  {
   "cell_type": "code",
   "execution_count": null,
   "metadata": {},
   "outputs": [],
   "source": [
    "#6 키워드 입력 및 검색\n"
   ]
  },
  {
   "cell_type": "code",
   "execution_count": null,
   "metadata": {},
   "outputs": [],
   "source": [
    "#7 수집 동영상 목록 생성\n"
   ]
  },
  {
   "cell_type": "code",
   "execution_count": null,
   "metadata": {},
   "outputs": [],
   "source": [
    "#8 CSV\n",
    "fp = open(\"results.csv\", \"w\", encoding=\"utf-8\")\n",
    "writer = csv.writer(fp)"
   ]
  },
  {
   "cell_type": "code",
   "execution_count": null,
   "metadata": {},
   "outputs": [],
   "source": [
    "#9 comment 수집\n",
    "for fulllink in fulllinks:\n",
    "\n",
    "    # 9-1 동영상 실행\n",
    "\n",
    "    # 9-2 스크롤 다운\n",
    "\n",
    "    # 9-3 모든 comment 출력\n",
    "\n",
    "    # 9-4 comment 수집\n",
    "\n",
    "    # 9-5 comment 파일 작성\n",
    "\n"
   ]
  },
  {
   "cell_type": "code",
   "execution_count": null,
   "metadata": {},
   "outputs": [],
   "source": [
    "#10 파일 닫기\n",
    "fp.close()\n",
    "driver.close()"
   ]
  }
 ],
 "metadata": {
  "kernelspec": {
   "display_name": "Python 3",
   "language": "python",
   "name": "python3"
  },
  "language_info": {
   "codemirror_mode": {
    "name": "ipython",
    "version": 3
   },
   "file_extension": ".py",
   "mimetype": "text/x-python",
   "name": "python",
   "nbconvert_exporter": "python",
   "pygments_lexer": "ipython3",
   "version": "3.7.3"
  }
 },
 "nbformat": 4,
 "nbformat_minor": 4
}
